{
 "cells": [
  {
   "cell_type": "code",
   "execution_count": 29,
   "metadata": {},
   "outputs": [],
   "source": [
    "import json\n"
   ]
  },
  {
   "cell_type": "code",
   "execution_count": 30,
   "metadata": {},
   "outputs": [
    {
     "name": "stdout",
     "output_type": "stream",
     "text": [
      "creating json......\n"
     ]
    }
   ],
   "source": [
    "print(\"creating json......\")\n",
    "temp={}\n",
    "with open(\"maindata.json\",\"w\") as datastore:\n",
    "    json.dump(temp,datastore)\n"
   ]
  },
  {
   "cell_type": "code",
   "execution_count": 31,
   "metadata": {},
   "outputs": [
    {
     "name": "stdout",
     "output_type": "stream",
     "text": [
      "Main json loaded\n"
     ]
    }
   ],
   "source": [
    "with open(\"maindata.json\",\"r\") as datastore:\n",
    "    json_load=json.load(datastore)\n",
    "    \n",
    "dummy=json_load\n",
    "print(\"Main json loaded\")\n",
    "   \n"
   ]
  },
  {
   "cell_type": "code",
   "execution_count": 21,
   "metadata": {},
   "outputs": [],
   "source": []
  },
  {
   "cell_type": "code",
   "execution_count": 22,
   "metadata": {},
   "outputs": [],
   "source": [
    "\n",
    "def create():\n",
    "    key=input(\"Enter key to create:\")\n",
    "    value=input(\"Enter value:\")\n",
    "    if key not in dummy.keys():\n",
    "        dummy[key]=value\n",
    "        print(\"Created\")\n",
    "    else:\n",
    "        print(\"Key already exists\")\n",
    "        \n",
    "def read():\n",
    "    key=input(\"Enter key to read:\")\n",
    "    print(dummy[key])\n",
    "    \n",
    "    \n",
    "def delete():\n",
    "    key=input(\"Enter key to delete:\")\n",
    "    dummy.pop(key)\n",
    "    print(\"Record deleted\")"
   ]
  },
  {
   "cell_type": "code",
   "execution_count": 27,
   "metadata": {},
   "outputs": [
    {
     "name": "stdout",
     "output_type": "stream",
     "text": [
      "Enter 1 to create, 2 to read, 3 to delete : 3\n",
      "Enter key to delete:1\n",
      "Record deleted\n"
     ]
    }
   ],
   "source": [
    "option=input(\"Enter 1 to create, 2 to read, 3 to delete : \")\n",
    "\n",
    "if(option==\"1\"):\n",
    "    create()\n",
    "    \n",
    "elif(option==\"2\"):\n",
    "    read()\n",
    "    \n",
    "elif(option==\"3\"): \n",
    "    delete()\n",
    "\n",
    "elif(option==\"4\"):\n",
    "    print(dummy)\n",
    "    \n"
   ]
  },
  {
   "cell_type": "code",
   "execution_count": null,
   "metadata": {},
   "outputs": [],
   "source": [
    "with open(\"main.json\",\"w\") as writedata:\n",
    "    json.dump(dummy,writedata)"
   ]
  },
  {
   "cell_type": "code",
   "execution_count": null,
   "metadata": {},
   "outputs": [],
   "source": []
  },
  {
   "cell_type": "code",
   "execution_count": null,
   "metadata": {},
   "outputs": [],
   "source": [
    "3\n"
   ]
  }
 ],
 "metadata": {
  "kernelspec": {
   "display_name": "Python 3",
   "language": "python",
   "name": "python3"
  },
  "language_info": {
   "codemirror_mode": {
    "name": "ipython",
    "version": 3
   },
   "file_extension": ".py",
   "mimetype": "text/x-python",
   "name": "python",
   "nbconvert_exporter": "python",
   "pygments_lexer": "ipython3",
   "version": "3.8.3"
  }
 },
 "nbformat": 4,
 "nbformat_minor": 4
}
