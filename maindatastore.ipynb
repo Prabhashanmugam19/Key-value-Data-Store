{
 "cells": [
  {
   "cell_type": "code",
   "execution_count": 9,
   "metadata": {},
   "outputs": [],
   "source": [
    "import json\n"
   ]
  },
  {
   "cell_type": "code",
   "execution_count": 10,
   "metadata": {},
   "outputs": [
    {
     "name": "stdout",
     "output_type": "stream",
     "text": [
      "creating json......\n"
     ]
    }
   ],
   "source": [
    "print(\"creating json......\")\n",
    "temp={}\n",
    "with open(\"mainjson.json\",\"w\") as datastore:\n",
    "    json.dump(temp,datastore)\n"
   ]
  },
  {
   "cell_type": "code",
   "execution_count": 11,
   "metadata": {},
   "outputs": [
    {
     "name": "stdout",
     "output_type": "stream",
     "text": [
      "Main json loaded\n"
     ]
    }
   ],
   "source": [
    "with open(\"mainjson.json\",\"r\") as datastore:\n",
    "    json_load=json.load(datastore)\n",
    "    \n",
    "dummy=json_load\n",
    "print(\"Main json loaded\")\n",
    "   \n"
   ]
  },
  {
   "cell_type": "code",
   "execution_count": 21,
   "metadata": {},
   "outputs": [],
   "source": []
  },
  {
   "cell_type": "code",
   "execution_count": 12,
   "metadata": {},
   "outputs": [],
   "source": [
    "\n",
    "def create():\n",
    "    key=input(\"Enter key to create:\")\n",
    "    value=input(\"Enter value:\")\n",
    "    if key not in dummy.keys():\n",
    "        dummy[key]=value\n",
    "        print(\"Created\")\n",
    "    else:\n",
    "        print(\"Key already exists\")\n",
    "        \n",
    "def read():\n",
    "    key=input(\"Enter key to read:\")\n",
    "    if key in dummy.keys():\n",
    "        print(dummy[key])\n",
    "    else:\n",
    "        print(\"Key doesn't exists\")\n",
    "    \n",
    "    \n",
    "def delete():\n",
    "    key=input(\"Enter key to delete:\")\n",
    "    if key in dummy.keys():\n",
    "        dummy.pop(key)\n",
    "        print(\"Record deleted\")\n",
    "    else:\n",
    "        print(\"Key doesn't exists\")"
   ]
  },
  {
   "cell_type": "code",
   "execution_count": 13,
   "metadata": {},
   "outputs": [
    {
     "name": "stdout",
     "output_type": "stream",
     "text": [
      "Enter \n",
      "1 to create\n",
      "2 to read\n",
      "3 to delete\n",
      " 4 to show\n",
      "Enter EXIT to exit : 1\n",
      "Enter key to create:1\n",
      "Enter value:2\n",
      "Created\n",
      "Enter \n",
      "1 to create\n",
      "2 to read\n",
      "3 to delete\n",
      " 4 to show\n",
      "Enter EXIT to exit : 1\n",
      "Enter key to create:2\n",
      "Enter value:3\n",
      "Created\n",
      "Enter \n",
      "1 to create\n",
      "2 to read\n",
      "3 to delete\n",
      " 4 to show\n",
      "Enter EXIT to exit : 1\n",
      "Enter key to create:3\n",
      "Enter value:4\n",
      "Created\n",
      "Enter \n",
      "1 to create\n",
      "2 to read\n",
      "3 to delete\n",
      " 4 to show\n",
      "Enter EXIT to exit : 2\n",
      "Enter key to read:2\n",
      "3\n",
      "Enter \n",
      "1 to create\n",
      "2 to read\n",
      "3 to delete\n",
      " 4 to show\n",
      "Enter EXIT to exit : 3\n",
      "Enter key to delete:3\n",
      "Record deleted\n",
      "Enter \n",
      "1 to create\n",
      "2 to read\n",
      "3 to delete\n",
      " 4 to show\n",
      "Enter EXIT to exit : EXIT\n"
     ]
    }
   ],
   "source": [
    "while(True):\n",
    "    option=input(\"Enter \\n1 to create\\n2 to read\\n3 to delete\\n 4 to show\\nEnter EXIT to exit : \")\n",
    "\n",
    "    if(option==\"1\"):\n",
    "        create()\n",
    "    \n",
    "    elif(option==\"2\"):\n",
    "        read()\n",
    "    \n",
    "    elif(option==\"3\"): \n",
    "        delete()\n",
    "\n",
    "    elif(option==\"4\"):\n",
    "        print(dummy)\n",
    "        \n",
    "    elif(option==\"EXIT\"):\n",
    "        break\n"
   ]
  },
  {
   "cell_type": "code",
   "execution_count": 14,
   "metadata": {},
   "outputs": [],
   "source": [
    "with open(\"mainjson.json\",\"w\") as writedata:\n",
    "    json.dump(dummy,writedata)"
   ]
  },
  {
   "cell_type": "code",
   "execution_count": null,
   "metadata": {},
   "outputs": [],
   "source": []
  },
  {
   "cell_type": "code",
   "execution_count": null,
   "metadata": {},
   "outputs": [],
   "source": [
    "3\n"
   ]
  }
 ],
 "metadata": {
  "kernelspec": {
   "display_name": "Python 3",
   "language": "python",
   "name": "python3"
  },
  "language_info": {
   "codemirror_mode": {
    "name": "ipython",
    "version": 3
   },
   "file_extension": ".py",
   "mimetype": "text/x-python",
   "name": "python",
   "nbconvert_exporter": "python",
   "pygments_lexer": "ipython3",
   "version": "3.8.3"
  }
 },
 "nbformat": 4,
 "nbformat_minor": 4
}
